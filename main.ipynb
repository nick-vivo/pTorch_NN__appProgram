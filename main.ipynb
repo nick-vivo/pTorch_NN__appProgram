{
 "cells": [
  {
   "cell_type": "markdown",
   "metadata": {},
   "source": [
    "## Обязательные требования\n",
    "\n",
    "- Github-репозитории управляются из среды разработки. Коммиты созданные через сайт не засчитываются.\n",
    "- Выполненная работа должна содержать несколько коммитов, отражающих процесс выполнения вами лабораторной работы. Один коммит будет приравниваться к списанной работе.\n",
    "- Сообщения коммитов должны исчерпывающе описывать изменения, которые они содержат.\n",
    "- Необходимо разделить код на функции так, что каждая функция имеет небольшую зону ответсвенности и решает одну изолированную задачу, которую не повторяет ни одна другая функция.\n",
    "- Необходимо оформить ноутбук для удобства сдачи лабораторной работы.\n",
    "- Код оформить в соответствии с PEP8.\n",
    "- Функции должны иметь dosctring.\n",
    "- Сигнатура функции оформлена с использованием type-hinting."
   ]
  },
  {
   "cell_type": "markdown",
   "metadata": {},
   "source": [
    "Для создания и обучения моделей необходимо использовать фреймворк `PyTorch`\n",
    "\n",
    "Использование других фреймворков глубокого обучения (TensorFlow, Keras, Caffe и т.п.) в рамках данной лабораторной работы не допускается 😢\n"
   ]
  },
  {
   "cell_type": "markdown",
   "metadata": {},
   "source": [
    "## Задание\n"
   ]
  },
  {
   "cell_type": "markdown",
   "metadata": {},
   "source": [
    "1.   Необходимо загрузить исходный набор данных и соответствующие метки классов.\n",
    "2.   Произвести разделение загруженного набора данных на обучающую, тестовую и валидационую выборки (в соотношении 80:10:10). Проверить, что сформированные выборки сбалансированы.\n",
    "3.   Написать модель нейронной сети для решения задачи классификации.\n",
    "4.   Описать пайплайн предобработки данных. **ВАЖНО**: что так как ваш вариант предполагает работу с текстом, то необходимо выполниить векторизацию данных (подробности в туториале).\n",
    "4.   Написать `train loop` (цикл обучения). Провести эксперименты по обучению с различными значениями параметров `learning rate` (скорость обучения) и `batch size` (размер мини-пакета). Выбрать по 3 значения для `learning rate` и `batch size` (итоговое количество экспериментов будет 9).\n",
    "5.   Для каждого проведенного эксперимента вывести графики для значения функции потерь (ось `x` - итерация обучения/номер эпохи; ось `y` - значение функции потерь) и выбранной метрики качества (ось `x` - итерация обучения/номер эпохи; ось `y` - значение метрики качества). Графики необходимо выводить как для обучающей, так и для валидационной выборки.\n",
    "6.   Оценить качество работы модели на тестовой выборке.\n",
    "7.   Сделайте выводы по полученным результатам проведенных экспериментов. Какую модель из всех полученных стоит использовать?\n",
    "8.   Сохранить обученную модель.\n",
    "9.   Выполните повторную инициализацию модели и загрузку весов.  Продемонстрируйте работоспособность модели (пропустите через нее какой-то отзыв/рецензию и выведите результат).\n",
    "\n"
   ]
  },
  {
   "cell_type": "markdown",
   "metadata": {},
   "source": [
    "## Снова спарсим наш любимый сайт"
   ]
  },
  {
   "cell_type": "markdown",
   "metadata": {},
   "source": [
    "``"
   ]
  },
  {
   "cell_type": "code",
   "execution_count": 1,
   "metadata": {},
   "outputs": [],
   "source": [
    "import os\n",
    "import re\n",
    "import shutil\n",
    "import pandas as pd\n",
    "\n",
    "from modules.Analysis_Data__appProgram.modules import annotation as ann"
   ]
  },
  {
   "cell_type": "code",
   "execution_count": 2,
   "metadata": {},
   "outputs": [],
   "source": [
    "ann_base = \"ann_base\"\n",
    "\n",
    "\n",
    "current_path = os.getcwd()\n",
    "parrent_path = os.path.join(current_path, \"..\")\n",
    "\n",
    "if not os.path.exists(ann_base):\n",
    "    os.mkdir(ann_base)\n",
    "\n",
    "else:\n",
    "    shutil.rmtree(ann_base)\n",
    "    os.mkdir(ann_base)\n",
    "\n",
    "\n",
    "dataset_path = os.path.join(\"datasets\", \"dataset\")\n",
    "ann_path = os.path.join(ann_base, \"ann.csv\")\n",
    "\n",
    "df = ann.annotation_dataset(dataset_path, ann_path)\n",
    "df.drop(\"rel_path\", axis=1, inplace=True)\n",
    "\n",
    "df.rename(columns={\"class\": \"stars\"}, inplace=True)"
   ]
  },
  {
   "cell_type": "code",
   "execution_count": 3,
   "metadata": {},
   "outputs": [],
   "source": [
    "def read_file(path: str) -> str:\n",
    "    \"\"\"\n",
    "    Функция для чтения файла и перевода его в строку\n",
    "    Parameters\n",
    "    ----------\n",
    "    path: str\n",
    "      Путь к файлу\n",
    "\n",
    "    Returns\n",
    "    -------\n",
    "    str\n",
    "    Строка, полученная из даннного файла\n",
    "    \"\"\"\n",
    "\n",
    "    with open(path, \"r\", encoding=\"utf-8\") as file:\n",
    "        return file.read()\n",
    "\n",
    "\n",
    "df[\"text\"] = df[\"abs_path\"].apply(read_file)\n",
    "\n",
    "df.dropna(subset=['text'], inplace=True)\n",
    "df.drop_duplicates(subset=[\"text\"], inplace=True)"
   ]
  },
  {
   "cell_type": "code",
   "execution_count": 4,
   "metadata": {},
   "outputs": [
    {
     "data": {
      "text/html": [
       "<div>\n",
       "<style scoped>\n",
       "    .dataframe tbody tr th:only-of-type {\n",
       "        vertical-align: middle;\n",
       "    }\n",
       "\n",
       "    .dataframe tbody tr th {\n",
       "        vertical-align: top;\n",
       "    }\n",
       "\n",
       "    .dataframe thead th {\n",
       "        text-align: right;\n",
       "    }\n",
       "</style>\n",
       "<table border=\"1\" class=\"dataframe\">\n",
       "  <thead>\n",
       "    <tr style=\"text-align: right;\">\n",
       "      <th></th>\n",
       "      <th>abs_path</th>\n",
       "      <th>stars</th>\n",
       "      <th>text</th>\n",
       "      <th>count_words</th>\n",
       "    </tr>\n",
       "  </thead>\n",
       "  <tbody>\n",
       "    <tr>\n",
       "      <th>0</th>\n",
       "      <td>/home/nick/Desktop/Univ/Programming/end_5_lab/...</td>\n",
       "      <td>0</td>\n",
       "      <td>Книга полна разочарований.Автор позиционирует ...</td>\n",
       "      <td>48</td>\n",
       "    </tr>\n",
       "    <tr>\n",
       "      <th>1</th>\n",
       "      <td>/home/nick/Desktop/Univ/Programming/end_5_lab/...</td>\n",
       "      <td>0</td>\n",
       "      <td>Когда я повернула не туда? Почему никто мне не...</td>\n",
       "      <td>118</td>\n",
       "    </tr>\n",
       "    <tr>\n",
       "      <th>2</th>\n",
       "      <td>/home/nick/Desktop/Univ/Programming/end_5_lab/...</td>\n",
       "      <td>0</td>\n",
       "      <td>Претенциозное ничто, как и предыдущая книга в ...</td>\n",
       "      <td>22</td>\n",
       "    </tr>\n",
       "    <tr>\n",
       "      <th>4</th>\n",
       "      <td>/home/nick/Desktop/Univ/Programming/end_5_lab/...</td>\n",
       "      <td>0</td>\n",
       "      <td>Вроде бы нельзя воспринимать эту книгу букваль...</td>\n",
       "      <td>30</td>\n",
       "    </tr>\n",
       "    <tr>\n",
       "      <th>5</th>\n",
       "      <td>/home/nick/Desktop/Univ/Programming/end_5_lab/...</td>\n",
       "      <td>0</td>\n",
       "      <td>Посыл у книги важный и нужный. Отчетливо понят...</td>\n",
       "      <td>126</td>\n",
       "    </tr>\n",
       "    <tr>\n",
       "      <th>...</th>\n",
       "      <td>...</td>\n",
       "      <td>...</td>\n",
       "      <td>...</td>\n",
       "      <td>...</td>\n",
       "    </tr>\n",
       "    <tr>\n",
       "      <th>1500</th>\n",
       "      <td>/home/nick/Desktop/Univ/Programming/end_5_lab/...</td>\n",
       "      <td>4</td>\n",
       "      <td>Книга 100% заслуживает вашего внимания и време...</td>\n",
       "      <td>119</td>\n",
       "    </tr>\n",
       "    <tr>\n",
       "      <th>1501</th>\n",
       "      <td>/home/nick/Desktop/Univ/Programming/end_5_lab/...</td>\n",
       "      <td>4</td>\n",
       "      <td>Казалось бы, в книге изложены те истины, котор...</td>\n",
       "      <td>40</td>\n",
       "    </tr>\n",
       "    <tr>\n",
       "      <th>1502</th>\n",
       "      <td>/home/nick/Desktop/Univ/Programming/end_5_lab/...</td>\n",
       "      <td>4</td>\n",
       "      <td>Автор не разочаровывает к моему большому удово...</td>\n",
       "      <td>33</td>\n",
       "    </tr>\n",
       "    <tr>\n",
       "      <th>1503</th>\n",
       "      <td>/home/nick/Desktop/Univ/Programming/end_5_lab/...</td>\n",
       "      <td>4</td>\n",
       "      <td>красивый и богатый язык, тонкий юмор, классные...</td>\n",
       "      <td>126</td>\n",
       "    </tr>\n",
       "    <tr>\n",
       "      <th>1504</th>\n",
       "      <td>/home/nick/Desktop/Univ/Programming/end_5_lab/...</td>\n",
       "      <td>4</td>\n",
       "      <td>Очень расслабляющая, атмосферная книга. Вместе...</td>\n",
       "      <td>52</td>\n",
       "    </tr>\n",
       "  </tbody>\n",
       "</table>\n",
       "<p>1447 rows × 4 columns</p>\n",
       "</div>"
      ],
      "text/plain": [
       "                                               abs_path  stars  \\\n",
       "0     /home/nick/Desktop/Univ/Programming/end_5_lab/...      0   \n",
       "1     /home/nick/Desktop/Univ/Programming/end_5_lab/...      0   \n",
       "2     /home/nick/Desktop/Univ/Programming/end_5_lab/...      0   \n",
       "4     /home/nick/Desktop/Univ/Programming/end_5_lab/...      0   \n",
       "5     /home/nick/Desktop/Univ/Programming/end_5_lab/...      0   \n",
       "...                                                 ...    ...   \n",
       "1500  /home/nick/Desktop/Univ/Programming/end_5_lab/...      4   \n",
       "1501  /home/nick/Desktop/Univ/Programming/end_5_lab/...      4   \n",
       "1502  /home/nick/Desktop/Univ/Programming/end_5_lab/...      4   \n",
       "1503  /home/nick/Desktop/Univ/Programming/end_5_lab/...      4   \n",
       "1504  /home/nick/Desktop/Univ/Programming/end_5_lab/...      4   \n",
       "\n",
       "                                                   text  count_words  \n",
       "0     Книга полна разочарований.Автор позиционирует ...           48  \n",
       "1     Когда я повернула не туда? Почему никто мне не...          118  \n",
       "2     Претенциозное ничто, как и предыдущая книга в ...           22  \n",
       "4     Вроде бы нельзя воспринимать эту книгу букваль...           30  \n",
       "5     Посыл у книги важный и нужный. Отчетливо понят...          126  \n",
       "...                                                 ...          ...  \n",
       "1500  Книга 100% заслуживает вашего внимания и време...          119  \n",
       "1501  Казалось бы, в книге изложены те истины, котор...           40  \n",
       "1502  Автор не разочаровывает к моему большому удово...           33  \n",
       "1503  красивый и богатый язык, тонкий юмор, классные...          126  \n",
       "1504  Очень расслабляющая, атмосферная книга. Вместе...           52  \n",
       "\n",
       "[1447 rows x 4 columns]"
      ]
     },
     "execution_count": 4,
     "metadata": {},
     "output_type": "execute_result"
    }
   ],
   "source": [
    "def count_words(string: str) -> int:\n",
    "    \"\"\"\n",
    "    Возвращает количество слов в строке\n",
    "    Parameters\n",
    "    ----------\n",
    "    string: str\n",
    "      Исходная строка\n",
    "\n",
    "    Returns\n",
    "    -------\n",
    "    int\n",
    "    Количество слов в строке\n",
    "    \"\"\"\n",
    "\n",
    "    cleaned_string = re.sub(r\"[^\\w\\s]\", \" \", string)\n",
    "\n",
    "    words = cleaned_string.split()\n",
    "\n",
    "    return len(words)\n",
    "\n",
    "\n",
    "df[\"count_words\"] = df[\"text\"].apply(count_words)\n",
    "df[\"stars\"] = df[\"stars\"].astype(int) - 1\n",
    "df\n"
   ]
  },
  {
   "cell_type": "code",
   "execution_count": null,
   "metadata": {},
   "outputs": [],
   "source": [
    "# df.to_csv(\"sdk.csv\")"
   ]
  },
  {
   "cell_type": "code",
   "execution_count": 5,
   "metadata": {},
   "outputs": [
    {
     "name": "stderr",
     "output_type": "stream",
     "text": [
      "[nltk_data] Downloading package punkt to /home/nick/nltk_data...\n",
      "[nltk_data]   Package punkt is already up-to-date!\n",
      "[nltk_data] Downloading package stopwords to /home/nick/nltk_data...\n",
      "[nltk_data]   Package stopwords is already up-to-date!\n"
     ]
    }
   ],
   "source": [
    "import numpy as np\n",
    "import pandas as pd\n",
    "import matplotlib.pyplot as plt\n",
    "import re\n",
    "import os\n",
    "\n",
    "import nltk\n",
    "from nltk.tokenize import word_tokenize\n",
    "from nltk import PorterStemmer\n",
    "from nltk import WordNetLemmatizer\n",
    "from nltk.stem import SnowballStemmer\n",
    "from pymorphy2 import MorphAnalyzer\n",
    "from nltk.corpus import stopwords\n",
    "\n",
    "nltk.download(\"punkt\")\n",
    "nltk.download(\"stopwords\")\n"
   ]
  },
  {
   "cell_type": "code",
   "execution_count": 6,
   "metadata": {},
   "outputs": [],
   "source": [
    "remove_non_alphabets =lambda x: re.sub(r'[^а-яА-Я]',' ',x)\n",
    "\n",
    "tokenize = lambda x: word_tokenize(x)\n",
    "\n",
    "ps = SnowballStemmer(\"russian\")\n",
    "stem = lambda w: [ ps.stem(x) for x in w ]\n",
    "\n",
    "morph = MorphAnalyzer()\n",
    "leammtizer = lambda w: [ morph.parse(x)[0].normal_form for x in w ]\n",
    "\n",
    "stop_words = set(stopwords.words(\"russian\"))"
   ]
  },
  {
   "cell_type": "code",
   "execution_count": 7,
   "metadata": {},
   "outputs": [
    {
     "data": {
      "text/plain": [
       "['с',\n",
       " 'друг',\n",
       " 'сторон',\n",
       " 'дальн',\n",
       " 'развит',\n",
       " 'различн',\n",
       " 'форм',\n",
       " 'деятельн',\n",
       " 'треб',\n",
       " 'от',\n",
       " 'нас',\n",
       " 'системн',\n",
       " 'анализ',\n",
       " 'нов',\n",
       " 'предложен',\n",
       " 'соображен',\n",
       " 'высш',\n",
       " 'порядк',\n",
       " 'а',\n",
       " 'такж',\n",
       " 'нача',\n",
       " 'повседневн',\n",
       " 'работ',\n",
       " 'по',\n",
       " 'формирован',\n",
       " 'позиц',\n",
       " 'представля',\n",
       " 'соб',\n",
       " 'интересн',\n",
       " 'эксперимент',\n",
       " 'проверк',\n",
       " 'и',\n",
       " 'дальн',\n",
       " 'направлен',\n",
       " 'развит',\n",
       " 'проект',\n",
       " 'повседневн',\n",
       " 'практик',\n",
       " 'показыва',\n",
       " 'что',\n",
       " 'дальн',\n",
       " 'развит',\n",
       " 'различн',\n",
       " 'форм',\n",
       " 'деятельн',\n",
       " 'игра',\n",
       " 'важн',\n",
       " 'рол',\n",
       " 'в',\n",
       " 'формирован',\n",
       " 'нов',\n",
       " 'предложен',\n",
       " 'практическ',\n",
       " 'оп',\n",
       " 'показыва',\n",
       " 'что',\n",
       " 'нов',\n",
       " 'модел',\n",
       " 'организацион',\n",
       " 'деятельн',\n",
       " 'игра',\n",
       " 'важн',\n",
       " 'рол',\n",
       " 'в',\n",
       " 'формирован',\n",
       " 'направлен',\n",
       " 'прогрессивн',\n",
       " 'развит',\n",
       " 'дорог',\n",
       " 'друз',\n",
       " 'нача',\n",
       " 'повседневн',\n",
       " 'работ',\n",
       " 'по',\n",
       " 'формирован',\n",
       " 'позиц',\n",
       " 'позволя',\n",
       " 'выполн',\n",
       " 'важн',\n",
       " 'задан',\n",
       " 'по',\n",
       " 'разработк',\n",
       " 'систем',\n",
       " 'обучен',\n",
       " 'кадр',\n",
       " 'соответств',\n",
       " 'насущн',\n",
       " 'потребн',\n",
       " 'повседневн',\n",
       " 'практик',\n",
       " 'показыва',\n",
       " 'что',\n",
       " 'реализац',\n",
       " 'намечен',\n",
       " 'план',\n",
       " 'развит',\n",
       " 'представля',\n",
       " 'соб',\n",
       " 'интересн',\n",
       " 'эксперимент',\n",
       " 'проверк']"
      ]
     },
     "execution_count": 7,
     "metadata": {},
     "output_type": "execute_result"
    }
   ],
   "source": [
    "strka = \"\"\"99 С другой стороны дальнейшее развитие различных форм деятельности требует от нас системного анализа новых предложений!\n",
    "\n",
    "Соображения высшего порядка, а также начало повседневной работы по формированию позиции представляет собой интересный эксперимент проверк\n",
    "и дальнейших направлений развития проекта! Повседневная практика показывает, что дальнейшее развитие различных форм деятельности играет важную роль в формировании новых предложений?\n",
    "\n",
    "Практический опыт показывает, что новая модель организационной деятельности играет важную роль в формировании направлений \n",
    "прогрессивного развития! Дорогие друзья, начало повседневной работы по формированию позиции позволяет выполнить важнейшие задания по \n",
    "разработке системы обучения кадров, соответствующей насущным потребностям.\n",
    "\n",
    "Повседневная практика показывает, что реализация намеченного плана развития представляет собой интересный эксперимент проверки...\"\"\"\n",
    "\n",
    "strka = remove_non_alphabets(strka)\n",
    "strka\n",
    "\n",
    "strka = tokenize(strka)\n",
    "strka\n",
    "\n",
    "strka = stem(strka)\n",
    "strka\n",
    "\n",
    "leammtizer(strka)\n",
    "strka\n"
   ]
  },
  {
   "cell_type": "code",
   "execution_count": 8,
   "metadata": {},
   "outputs": [
    {
     "name": "stdout",
     "output_type": "stream",
     "text": [
      "Processing : [=====] : Completed"
     ]
    }
   ],
   "source": [
    "print('Processing : [=', end='')\n",
    "df['text'] = df['text'].apply(remove_non_alphabets)\n",
    "print('=', end='')\n",
    "df['text'] = df['text'].apply(tokenize) # [ word_tokenize(row) for row in df['text']]\n",
    "print('=', end='')\n",
    "df['text'] = df['text'].apply(stem)\n",
    "print('=', end='')\n",
    "df['text'] = df['text'].apply(leammtizer)\n",
    "print('=', end='')\n",
    "df['text'] = df['text'].apply(lambda x: ' '.join(x))\n",
    "print('] : Completed', end='')\n",
    "\n",
    "df.dropna(subset=['text'], inplace=True)\n",
    "# df.to_csv(\"sdd.csv\")"
   ]
  },
  {
   "cell_type": "code",
   "execution_count": 9,
   "metadata": {},
   "outputs": [
    {
     "data": {
      "text/html": [
       "<div>\n",
       "<style scoped>\n",
       "    .dataframe tbody tr th:only-of-type {\n",
       "        vertical-align: middle;\n",
       "    }\n",
       "\n",
       "    .dataframe tbody tr th {\n",
       "        vertical-align: top;\n",
       "    }\n",
       "\n",
       "    .dataframe thead th {\n",
       "        text-align: right;\n",
       "    }\n",
       "</style>\n",
       "<table border=\"1\" class=\"dataframe\">\n",
       "  <thead>\n",
       "    <tr style=\"text-align: right;\">\n",
       "      <th></th>\n",
       "      <th>text</th>\n",
       "      <th>count_words</th>\n",
       "      <th>stars</th>\n",
       "    </tr>\n",
       "  </thead>\n",
       "  <tbody>\n",
       "    <tr>\n",
       "      <th>0</th>\n",
       "      <td>книга полна разочаровать автор позиционир себ ...</td>\n",
       "      <td>48</td>\n",
       "      <td>0</td>\n",
       "    </tr>\n",
       "    <tr>\n",
       "      <th>1</th>\n",
       "      <td>когд я повернуть не туд поч никта я не сказ чт...</td>\n",
       "      <td>118</td>\n",
       "      <td>0</td>\n",
       "    </tr>\n",
       "    <tr>\n",
       "      <th>2</th>\n",
       "      <td>претенциозна ничт как и предыдущий книга в эт ...</td>\n",
       "      <td>22</td>\n",
       "      <td>0</td>\n",
       "    </tr>\n",
       "    <tr>\n",
       "      <th>4</th>\n",
       "      <td>врод бы нельз воспринить эт книга буквальна но...</td>\n",
       "      <td>30</td>\n",
       "      <td>0</td>\n",
       "    </tr>\n",
       "    <tr>\n",
       "      <th>5</th>\n",
       "      <td>пос у книга важн и нужн отчётливый понятн что ...</td>\n",
       "      <td>126</td>\n",
       "      <td>0</td>\n",
       "    </tr>\n",
       "    <tr>\n",
       "      <th>...</th>\n",
       "      <td>...</td>\n",
       "      <td>...</td>\n",
       "      <td>...</td>\n",
       "    </tr>\n",
       "    <tr>\n",
       "      <th>1500</th>\n",
       "      <td>книга заслуживый ваш вниман и время настольк о...</td>\n",
       "      <td>119</td>\n",
       "      <td>4</td>\n",
       "    </tr>\n",
       "    <tr>\n",
       "      <th>1501</th>\n",
       "      <td>каз бы в книга изложа тот истина котор давна и...</td>\n",
       "      <td>40</td>\n",
       "      <td>4</td>\n",
       "    </tr>\n",
       "    <tr>\n",
       "      <th>1502</th>\n",
       "      <td>автор не разочаровыв к мо больша удовольство о...</td>\n",
       "      <td>33</td>\n",
       "      <td>4</td>\n",
       "    </tr>\n",
       "    <tr>\n",
       "      <th>1503</th>\n",
       "      <td>красивый и богатый язык тонк юмор классна перс...</td>\n",
       "      <td>126</td>\n",
       "      <td>4</td>\n",
       "    </tr>\n",
       "    <tr>\n",
       "      <th>1504</th>\n",
       "      <td>очный расслабль атмосферна книга вместо с не п...</td>\n",
       "      <td>52</td>\n",
       "      <td>4</td>\n",
       "    </tr>\n",
       "  </tbody>\n",
       "</table>\n",
       "<p>1447 rows × 3 columns</p>\n",
       "</div>"
      ],
      "text/plain": [
       "                                                   text  count_words  stars\n",
       "0     книга полна разочаровать автор позиционир себ ...           48      0\n",
       "1     когд я повернуть не туд поч никта я не сказ чт...          118      0\n",
       "2     претенциозна ничт как и предыдущий книга в эт ...           22      0\n",
       "4     врод бы нельз воспринить эт книга буквальна но...           30      0\n",
       "5     пос у книга важн и нужн отчётливый понятн что ...          126      0\n",
       "...                                                 ...          ...    ...\n",
       "1500  книга заслуживый ваш вниман и время настольк о...          119      4\n",
       "1501  каз бы в книга изложа тот истина котор давна и...           40      4\n",
       "1502  автор не разочаровыв к мо больша удовольство о...           33      4\n",
       "1503  красивый и богатый язык тонк юмор классна перс...          126      4\n",
       "1504  очный расслабль атмосферна книга вместо с не п...           52      4\n",
       "\n",
       "[1447 rows x 3 columns]"
      ]
     },
     "execution_count": 9,
     "metadata": {},
     "output_type": "execute_result"
    }
   ],
   "source": [
    "df_file = df[['text', 'count_words', 'stars']]\n",
    "df_file\n",
    "# df_file.to_csv(\"file.csv\")"
   ]
  },
  {
   "cell_type": "code",
   "execution_count": 14,
   "metadata": {},
   "outputs": [
    {
     "data": {
      "text/plain": [
       "abs_path       1447\n",
       "stars          1447\n",
       "text           1447\n",
       "count_words    1447\n",
       "dtype: int64"
      ]
     },
     "execution_count": 14,
     "metadata": {},
     "output_type": "execute_result"
    }
   ],
   "source": [
    "df.dropna(subset=['text'], inplace=True)"
   ]
  },
  {
   "cell_type": "code",
   "execution_count": 16,
   "metadata": {},
   "outputs": [
    {
     "name": "stdout",
     "output_type": "stream",
     "text": [
      "Stars: 1\n",
      "Max: 272\n",
      "Min: 0\n",
      "Mean: 101\n",
      "===========================================\n",
      "Stars: 2\n",
      "Max: 143\n",
      "Min: 8\n",
      "Mean: 104\n",
      "===========================================\n",
      "Stars: 3\n",
      "Max: 146\n",
      "Min: 3\n",
      "Mean: 109\n",
      "===========================================\n",
      "Stars: 4\n",
      "Max: 147\n",
      "Min: 9\n",
      "Mean: 110\n",
      "===========================================\n",
      "Stars: 5\n",
      "Max: 144\n",
      "Min: 5\n",
      "Mean: 100\n",
      "===========================================\n"
     ]
    }
   ],
   "source": [
    "df.groupby(\"stars\").count()\n",
    "\n",
    "for stars, mini_df in df.groupby(\"stars\"):\n",
    "    print(f\"Stars: {stars + 1}\")\n",
    "    print(f\"Max: {mini_df.count_words.max()}\")\n",
    "    print(f\"Min: {mini_df.count_words.min()}\")\n",
    "    print(f\"Mean: {int(mini_df.count_words.mean())}\")\n",
    "    print(\"===========================================\")"
   ]
  },
  {
   "cell_type": "code",
   "execution_count": 114,
   "metadata": {},
   "outputs": [],
   "source": [
    "df = df[['text', 'count_words', 'stars']]\n",
    "df.to_csv(r\"file.gz\", compression='gzip', index=False)"
   ]
  },
  {
   "cell_type": "markdown",
   "metadata": {},
   "source": [
    "# AI\n"
   ]
  },
  {
   "cell_type": "code",
   "execution_count": null,
   "metadata": {},
   "outputs": [],
   "source": [
    "\n",
    "from sklearn.feature_extraction.text import CountVectorizer\n",
    "from sklearn.model_selection import train_test_split\n",
    "import torch\n",
    "import torch.nn as nn\n",
    "import torch.nn.functional as F\n",
    "from torch.autograd import Variable\n",
    "import torchvision\n",
    "from torch.utils.data import TensorDataset, DataLoader\n"
   ]
  },
  {
   "cell_type": "code",
   "execution_count": 108,
   "metadata": {},
   "outputs": [
    {
     "data": {
      "text/plain": [
       "(1447, 14000)"
      ]
     },
     "execution_count": 108,
     "metadata": {},
     "output_type": "execute_result"
    }
   ],
   "source": [
    "max_words = 14000\n",
    "stop_words = set(stopwords.words(\"russian\"))\n",
    "\n",
    "cv = CountVectorizer(max_features=max_words, stop_words=list(stop_words))\n",
    "sparse_matrix = cv.fit_transform(df['text']).toarray()\n",
    "sparse_matrix.shape\n"
   ]
  },
  {
   "cell_type": "code",
   "execution_count": 109,
   "metadata": {},
   "outputs": [],
   "source": [
    "class SimpleModel(nn.Module):\n",
    "    def __init__(self):\n",
    "        super(SimpleModel, self).__init__()\n",
    "        self.linear1 = nn.Linear(max_words, 7000)\n",
    "        self.linear2 = nn.Linear(7000, 3500)\n",
    "        self.linear3 = nn.Linear(3500, 500)\n",
    "        self.linear4 = nn.Linear(500, 50)\n",
    "        self.linear5 = nn.Linear(50, 5)\n",
    "        \n",
    "    def forward(self, x):\n",
    "        x = F.relu(self.linear1(x))\n",
    "        x = F.relu(self.linear2(x))\n",
    "        x = F.relu(self.linear3(x))\n",
    "        x = F.relu(self.linear4(x))\n",
    "        x = self.linear5(x)\n",
    "        return x"
   ]
  },
  {
   "cell_type": "code",
   "execution_count": 110,
   "metadata": {},
   "outputs": [],
   "source": [
    "x_train, x_temp, y_train, y_temp = train_test_split(sparse_matrix, np.array(df['stars']), train_size=0.8, random_state=42)\n",
    "\n",
    "x_test, x_val, y_test, y_val = train_test_split(x_temp, y_temp, test_size=0.5, random_state=42)"
   ]
  },
  {
   "cell_type": "code",
   "execution_count": 111,
   "metadata": {},
   "outputs": [],
   "source": [
    "x_train = Variable(torch.from_numpy(x_train)).float()\n",
    "y_train = Variable(torch.from_numpy(y_train)).long()\n",
    "\n",
    "x_test = Variable(torch.from_numpy(x_test)).float()\n",
    "y_test = Variable(torch.from_numpy(y_test)).long()\n",
    "\n",
    "x_val = Variable(torch.from_numpy(x_val)).float()\n",
    "y_val = Variable(torch.from_numpy(y_val)).long()"
   ]
  },
  {
   "cell_type": "markdown",
   "metadata": {},
   "source": [
    "## Обучение модели\n"
   ]
  },
  {
   "cell_type": "code",
   "execution_count": 112,
   "metadata": {},
   "outputs": [
    {
     "name": "stdout",
     "output_type": "stream",
     "text": [
      "№0 LR: 0.001, Batch Size: 32, Epoch: 1/10, Loss (Train/Val): 1.5609/1.5465, Accuracy (Train/Val): 0.2437/0.2621\n"
     ]
    },
    {
     "ename": "KeyboardInterrupt",
     "evalue": "",
     "output_type": "error",
     "traceback": [
      "\u001b[0;31m---------------------------------------------------------------------------\u001b[0m",
      "\u001b[0;31mKeyboardInterrupt\u001b[0m                         Traceback (most recent call last)",
      "Cell \u001b[0;32mIn[112], line 92\u001b[0m\n\u001b[1;32m     90\u001b[0m \u001b[38;5;28;01mwith\u001b[39;00m torch\u001b[38;5;241m.\u001b[39mno_grad():\n\u001b[1;32m     91\u001b[0m     \u001b[38;5;28;01mfor\u001b[39;00m inputs, labels \u001b[38;5;129;01min\u001b[39;00m test_loader:\n\u001b[0;32m---> 92\u001b[0m         outputs \u001b[38;5;241m=\u001b[39m \u001b[43mmodel\u001b[49m\u001b[43m(\u001b[49m\u001b[43minputs\u001b[49m\u001b[43m)\u001b[49m\n\u001b[1;32m     93\u001b[0m         loss_test \u001b[38;5;241m=\u001b[39m criterion(outputs, labels)\n\u001b[1;32m     94\u001b[0m         running_loss_test \u001b[38;5;241m+\u001b[39m\u001b[38;5;241m=\u001b[39m loss_test\u001b[38;5;241m.\u001b[39mitem()\n",
      "File \u001b[0;32m~/.local/lib/python3.10/site-packages/torch/nn/modules/module.py:1518\u001b[0m, in \u001b[0;36mModule._wrapped_call_impl\u001b[0;34m(self, *args, **kwargs)\u001b[0m\n\u001b[1;32m   1516\u001b[0m     \u001b[38;5;28;01mreturn\u001b[39;00m \u001b[38;5;28mself\u001b[39m\u001b[38;5;241m.\u001b[39m_compiled_call_impl(\u001b[38;5;241m*\u001b[39margs, \u001b[38;5;241m*\u001b[39m\u001b[38;5;241m*\u001b[39mkwargs)  \u001b[38;5;66;03m# type: ignore[misc]\u001b[39;00m\n\u001b[1;32m   1517\u001b[0m \u001b[38;5;28;01melse\u001b[39;00m:\n\u001b[0;32m-> 1518\u001b[0m     \u001b[38;5;28;01mreturn\u001b[39;00m \u001b[38;5;28;43mself\u001b[39;49m\u001b[38;5;241;43m.\u001b[39;49m\u001b[43m_call_impl\u001b[49m\u001b[43m(\u001b[49m\u001b[38;5;241;43m*\u001b[39;49m\u001b[43margs\u001b[49m\u001b[43m,\u001b[49m\u001b[43m \u001b[49m\u001b[38;5;241;43m*\u001b[39;49m\u001b[38;5;241;43m*\u001b[39;49m\u001b[43mkwargs\u001b[49m\u001b[43m)\u001b[49m\n",
      "File \u001b[0;32m~/.local/lib/python3.10/site-packages/torch/nn/modules/module.py:1527\u001b[0m, in \u001b[0;36mModule._call_impl\u001b[0;34m(self, *args, **kwargs)\u001b[0m\n\u001b[1;32m   1522\u001b[0m \u001b[38;5;66;03m# If we don't have any hooks, we want to skip the rest of the logic in\u001b[39;00m\n\u001b[1;32m   1523\u001b[0m \u001b[38;5;66;03m# this function, and just call forward.\u001b[39;00m\n\u001b[1;32m   1524\u001b[0m \u001b[38;5;28;01mif\u001b[39;00m \u001b[38;5;129;01mnot\u001b[39;00m (\u001b[38;5;28mself\u001b[39m\u001b[38;5;241m.\u001b[39m_backward_hooks \u001b[38;5;129;01mor\u001b[39;00m \u001b[38;5;28mself\u001b[39m\u001b[38;5;241m.\u001b[39m_backward_pre_hooks \u001b[38;5;129;01mor\u001b[39;00m \u001b[38;5;28mself\u001b[39m\u001b[38;5;241m.\u001b[39m_forward_hooks \u001b[38;5;129;01mor\u001b[39;00m \u001b[38;5;28mself\u001b[39m\u001b[38;5;241m.\u001b[39m_forward_pre_hooks\n\u001b[1;32m   1525\u001b[0m         \u001b[38;5;129;01mor\u001b[39;00m _global_backward_pre_hooks \u001b[38;5;129;01mor\u001b[39;00m _global_backward_hooks\n\u001b[1;32m   1526\u001b[0m         \u001b[38;5;129;01mor\u001b[39;00m _global_forward_hooks \u001b[38;5;129;01mor\u001b[39;00m _global_forward_pre_hooks):\n\u001b[0;32m-> 1527\u001b[0m     \u001b[38;5;28;01mreturn\u001b[39;00m \u001b[43mforward_call\u001b[49m\u001b[43m(\u001b[49m\u001b[38;5;241;43m*\u001b[39;49m\u001b[43margs\u001b[49m\u001b[43m,\u001b[49m\u001b[43m \u001b[49m\u001b[38;5;241;43m*\u001b[39;49m\u001b[38;5;241;43m*\u001b[39;49m\u001b[43mkwargs\u001b[49m\u001b[43m)\u001b[49m\n\u001b[1;32m   1529\u001b[0m \u001b[38;5;28;01mtry\u001b[39;00m:\n\u001b[1;32m   1530\u001b[0m     result \u001b[38;5;241m=\u001b[39m \u001b[38;5;28;01mNone\u001b[39;00m\n",
      "Cell \u001b[0;32mIn[109], line 11\u001b[0m, in \u001b[0;36mSimpleModel.forward\u001b[0;34m(self, x)\u001b[0m\n\u001b[1;32m     10\u001b[0m \u001b[38;5;28;01mdef\u001b[39;00m \u001b[38;5;21mforward\u001b[39m(\u001b[38;5;28mself\u001b[39m, x):\n\u001b[0;32m---> 11\u001b[0m     x \u001b[38;5;241m=\u001b[39m F\u001b[38;5;241m.\u001b[39mrelu(\u001b[38;5;28;43mself\u001b[39;49m\u001b[38;5;241;43m.\u001b[39;49m\u001b[43mlinear1\u001b[49m\u001b[43m(\u001b[49m\u001b[43mx\u001b[49m\u001b[43m)\u001b[49m)\n\u001b[1;32m     12\u001b[0m     x \u001b[38;5;241m=\u001b[39m F\u001b[38;5;241m.\u001b[39mrelu(\u001b[38;5;28mself\u001b[39m\u001b[38;5;241m.\u001b[39mlinear2(x))\n\u001b[1;32m     13\u001b[0m     x \u001b[38;5;241m=\u001b[39m F\u001b[38;5;241m.\u001b[39mrelu(\u001b[38;5;28mself\u001b[39m\u001b[38;5;241m.\u001b[39mlinear3(x))\n",
      "File \u001b[0;32m~/.local/lib/python3.10/site-packages/torch/nn/modules/module.py:1518\u001b[0m, in \u001b[0;36mModule._wrapped_call_impl\u001b[0;34m(self, *args, **kwargs)\u001b[0m\n\u001b[1;32m   1516\u001b[0m     \u001b[38;5;28;01mreturn\u001b[39;00m \u001b[38;5;28mself\u001b[39m\u001b[38;5;241m.\u001b[39m_compiled_call_impl(\u001b[38;5;241m*\u001b[39margs, \u001b[38;5;241m*\u001b[39m\u001b[38;5;241m*\u001b[39mkwargs)  \u001b[38;5;66;03m# type: ignore[misc]\u001b[39;00m\n\u001b[1;32m   1517\u001b[0m \u001b[38;5;28;01melse\u001b[39;00m:\n\u001b[0;32m-> 1518\u001b[0m     \u001b[38;5;28;01mreturn\u001b[39;00m \u001b[38;5;28;43mself\u001b[39;49m\u001b[38;5;241;43m.\u001b[39;49m\u001b[43m_call_impl\u001b[49m\u001b[43m(\u001b[49m\u001b[38;5;241;43m*\u001b[39;49m\u001b[43margs\u001b[49m\u001b[43m,\u001b[49m\u001b[43m \u001b[49m\u001b[38;5;241;43m*\u001b[39;49m\u001b[38;5;241;43m*\u001b[39;49m\u001b[43mkwargs\u001b[49m\u001b[43m)\u001b[49m\n",
      "File \u001b[0;32m~/.local/lib/python3.10/site-packages/torch/nn/modules/module.py:1527\u001b[0m, in \u001b[0;36mModule._call_impl\u001b[0;34m(self, *args, **kwargs)\u001b[0m\n\u001b[1;32m   1522\u001b[0m \u001b[38;5;66;03m# If we don't have any hooks, we want to skip the rest of the logic in\u001b[39;00m\n\u001b[1;32m   1523\u001b[0m \u001b[38;5;66;03m# this function, and just call forward.\u001b[39;00m\n\u001b[1;32m   1524\u001b[0m \u001b[38;5;28;01mif\u001b[39;00m \u001b[38;5;129;01mnot\u001b[39;00m (\u001b[38;5;28mself\u001b[39m\u001b[38;5;241m.\u001b[39m_backward_hooks \u001b[38;5;129;01mor\u001b[39;00m \u001b[38;5;28mself\u001b[39m\u001b[38;5;241m.\u001b[39m_backward_pre_hooks \u001b[38;5;129;01mor\u001b[39;00m \u001b[38;5;28mself\u001b[39m\u001b[38;5;241m.\u001b[39m_forward_hooks \u001b[38;5;129;01mor\u001b[39;00m \u001b[38;5;28mself\u001b[39m\u001b[38;5;241m.\u001b[39m_forward_pre_hooks\n\u001b[1;32m   1525\u001b[0m         \u001b[38;5;129;01mor\u001b[39;00m _global_backward_pre_hooks \u001b[38;5;129;01mor\u001b[39;00m _global_backward_hooks\n\u001b[1;32m   1526\u001b[0m         \u001b[38;5;129;01mor\u001b[39;00m _global_forward_hooks \u001b[38;5;129;01mor\u001b[39;00m _global_forward_pre_hooks):\n\u001b[0;32m-> 1527\u001b[0m     \u001b[38;5;28;01mreturn\u001b[39;00m \u001b[43mforward_call\u001b[49m\u001b[43m(\u001b[49m\u001b[38;5;241;43m*\u001b[39;49m\u001b[43margs\u001b[49m\u001b[43m,\u001b[49m\u001b[43m \u001b[49m\u001b[38;5;241;43m*\u001b[39;49m\u001b[38;5;241;43m*\u001b[39;49m\u001b[43mkwargs\u001b[49m\u001b[43m)\u001b[49m\n\u001b[1;32m   1529\u001b[0m \u001b[38;5;28;01mtry\u001b[39;00m:\n\u001b[1;32m   1530\u001b[0m     result \u001b[38;5;241m=\u001b[39m \u001b[38;5;28;01mNone\u001b[39;00m\n",
      "File \u001b[0;32m~/.local/lib/python3.10/site-packages/torch/nn/modules/linear.py:114\u001b[0m, in \u001b[0;36mLinear.forward\u001b[0;34m(self, input)\u001b[0m\n\u001b[1;32m    113\u001b[0m \u001b[38;5;28;01mdef\u001b[39;00m \u001b[38;5;21mforward\u001b[39m(\u001b[38;5;28mself\u001b[39m, \u001b[38;5;28minput\u001b[39m: Tensor) \u001b[38;5;241m-\u001b[39m\u001b[38;5;241m>\u001b[39m Tensor:\n\u001b[0;32m--> 114\u001b[0m     \u001b[38;5;28;01mreturn\u001b[39;00m \u001b[43mF\u001b[49m\u001b[38;5;241;43m.\u001b[39;49m\u001b[43mlinear\u001b[49m\u001b[43m(\u001b[49m\u001b[38;5;28;43minput\u001b[39;49m\u001b[43m,\u001b[49m\u001b[43m \u001b[49m\u001b[38;5;28;43mself\u001b[39;49m\u001b[38;5;241;43m.\u001b[39;49m\u001b[43mweight\u001b[49m\u001b[43m,\u001b[49m\u001b[43m \u001b[49m\u001b[38;5;28;43mself\u001b[39;49m\u001b[38;5;241;43m.\u001b[39;49m\u001b[43mbias\u001b[49m\u001b[43m)\u001b[49m\n",
      "\u001b[0;31mKeyboardInterrupt\u001b[0m: "
     ]
    }
   ],
   "source": [
    "index = 0\n",
    "learning_rates = [0.001, 0.01, 0.1]\n",
    "batch_sizes = [32, 64, 128]\n",
    "criterion = nn.CrossEntropyLoss()\n",
    "\n",
    "models_base = \"models_base\"\n",
    "current_path = os.getcwd()\n",
    "\n",
    "if not os.path.exists(models_base):\n",
    "    os.mkdir(models_base)\n",
    "\n",
    "else:\n",
    "    shutil.rmtree(models_base)\n",
    "    os.mkdir(models_base)\n",
    "\n",
    "\n",
    "model_list = []\n",
    "epochs = 10\n",
    "\n",
    "for lr in learning_rates:\n",
    "    for batch_size in batch_sizes:\n",
    "        # Переопределение оптимизатора с новыми параметрами\n",
    "        model = SimpleModel()\n",
    "        optimizer = torch.optim.Adam(params=model.parameters() , lr=lr)\n",
    "        \n",
    "        # Инициализация даталоадеров с новым batch_size\n",
    "        train_loader = torch.utils.data.DataLoader(list(zip(x_train, y_train)), batch_size=batch_size, shuffle=True)\n",
    "        \n",
    "        test_loader = torch.utils.data.DataLoader(list(zip(x_test, y_test)), batch_size=batch_size, shuffle=False)\n",
    "        \n",
    "        val_loader = torch.utils.data.DataLoader(list(zip(x_val, y_val)), batch_size=batch_size, shuffle=False)\n",
    "        \n",
    "        # Обновление переменных\n",
    "        model.train()\n",
    "        loss_values_train = []\n",
    "        acc_values_train = []\n",
    "        loss_values_val = []\n",
    "        acc_values_val = []\n",
    "        loss_values_test = []\n",
    "        acc_values_test = []\n",
    "\n",
    "        for epoch in range(epochs):\n",
    "            model.train()\n",
    "            running_loss = 0.0\n",
    "            correct_train = 0\n",
    "\n",
    "            for inputs, labels in train_loader:\n",
    "                optimizer.zero_grad()\n",
    "                outputs = model(inputs)\n",
    "                loss = criterion(outputs, labels)\n",
    "                loss.backward()\n",
    "                optimizer.step()\n",
    "\n",
    "                running_loss += loss.item()\n",
    "                _, predicted = torch.max(outputs.data, 1)\n",
    "                correct_train += (predicted == labels).sum().item()\n",
    "\n",
    "            # Вычисление метрик для обучающей выборки\n",
    "            average_loss_train = running_loss / len(train_loader)\n",
    "            accuracy_train = correct_train / len(x_train)\n",
    "            loss_values_train.append(average_loss_train)\n",
    "            acc_values_train.append(accuracy_train)\n",
    "\n",
    "            model_list.append(model)\n",
    "            \n",
    "            # Валидация модели\n",
    "            model.eval()\n",
    "            running_loss_val = 0.0\n",
    "            correct_val = 0\n",
    "\n",
    "            with torch.no_grad():\n",
    "                for inputs, labels in val_loader:\n",
    "                    outputs = model(inputs)\n",
    "                    loss_val = criterion(outputs, labels)\n",
    "                    running_loss_val += loss_val.item()\n",
    "                    _, predicted_val = torch.max(outputs.data, 1)\n",
    "                    correct_val += (predicted_val == labels).sum().item()\n",
    "\n",
    "            # Вычисление метрик для валидационной выборки\n",
    "            average_loss_val = running_loss_val / len(val_loader)\n",
    "            accuracy_val = correct_val / len(x_val)\n",
    "            loss_values_val.append(average_loss_val)\n",
    "            acc_values_val.append(accuracy_val)\n",
    "\n",
    "            \n",
    "            # Тест модели\n",
    "            running_loss_test = 0.0\n",
    "            correct_test = 0\n",
    "\n",
    "            with torch.no_grad():\n",
    "                for inputs, labels in test_loader:\n",
    "                    outputs = model(inputs)\n",
    "                    loss_test = criterion(outputs, labels)\n",
    "                    running_loss_test += loss_test.item()\n",
    "                    _, predicted_test = torch.max(outputs.data, 1)\n",
    "                    correct_test += (predicted_test == labels).sum().item()\n",
    "\n",
    "            # Вычисление метрик для тестовой выборки\n",
    "            average_loss_test = running_loss_test / len(test_loader)\n",
    "            accuracy_test = correct_test / len(x_test)\n",
    "            loss_values_test.append(average_loss_test)\n",
    "            acc_values_test.append(accuracy_test)\n",
    "\n",
    "\n",
    "            # Вывод результатов каждую эпоху\n",
    "            print('№{} LR: {}, Batch Size: {}, Epoch: {}/{}, Loss (Train/Val): {:.4f}/{:.4f}, Accuracy (Train/Val): {:.4f}/{:.4f}'.format(\n",
    "                index, lr, batch_size, epoch + 1, epochs, average_loss_train, average_loss_val, accuracy_train, accuracy_val))\n",
    "            index += 1\n",
    "            model_list.append(model)\n",
    "            # torch.save(model.state_dict(),os.path.join(models_base, f'model_{index}_lr_{lr}_bs_{batch_size}_epoch_{epoch + 1}.pth'))\n",
    "\n",
    "        # Построение графиков\n",
    "        plt.figure(figsize=(12, 4))\n",
    "\n",
    "        # График функции потерь\n",
    "        plt.subplot(1, 2, 1)\n",
    "        plt.plot(range(epochs), loss_values_train, label='Train')\n",
    "        plt.plot(range(epochs), loss_values_val, label='Validation')\n",
    "        plt.plot(range(epochs), loss_values_test, label='Test')\n",
    "        plt.title(f'Loss: lr: {lr} bs:{batch_size}')\n",
    "        plt.xlabel('Epoch')\n",
    "        plt.ylabel('Value')\n",
    "        plt.legend()\n",
    "\n",
    "        # График метрики качества\n",
    "        plt.subplot(1, 2, 2)\n",
    "        plt.plot(range(epochs), acc_values_train, label='Train')\n",
    "        plt.plot(range(epochs), acc_values_val, label='Validation')\n",
    "        plt.plot(range(epochs), acc_values_test, label='Test')\n",
    "        plt.title(f'Accuracy: lr:{lr} bs:{batch_size}')\n",
    "        plt.xlabel('Epoch')\n",
    "        plt.ylabel('Value')\n",
    "        plt.legend()\n",
    "\n",
    "        plt.tight_layout()\n",
    "        plt.show()"
   ]
  },
  {
   "cell_type": "markdown",
   "metadata": {},
   "source": [
    "Посмотреть на каких-нибудь данных"
   ]
  },
  {
   "cell_type": "markdown",
   "metadata": {},
   "source": [
    "## Тренировка моделей закончена, они находятся в model_list\n"
   ]
  },
  {
   "cell_type": "code",
   "execution_count": 104,
   "metadata": {},
   "outputs": [],
   "source": [
    "index = 97"
   ]
  },
  {
   "cell_type": "code",
   "execution_count": 105,
   "metadata": {},
   "outputs": [],
   "source": [
    "new_review = \"\"\"Как же я долго читала книгу, но мне просто не хочется расставаться с автором, читала книгу по чуть-чуть, наслаждаясь авторской задумкой и неповторимым стилем. Мне горестно от того, что все книги автора уже прочитаны, очень буду ждать новых историй. В этой книге мы более подробно узнаем об мире Ордэне, об их деятельности и их возможностях. Маргарита живет в две тысячи восемнадцатом году, но благодаря своему увлечению куклами и странному продавцу девушка оказывается в прошлом и ей предстоит стать гувернанткой девочки Нади и помочь ей избавиться от странных монстров, а еще разгадать несколько закрученных семейных тайн. Когда в тексте появились часы, где ласточка под другим углом уклона превращается в ворона, у меня сразу возникли подозрения, что Яша — это тот самый Яков из книги Сердце…\n",
    "\"\"\"\n",
    "new_vectorize = cv.transform([new_review]).toarray()\n",
    "new_review_tensor = torch.from_numpy(new_vectorize).float()"
   ]
  },
  {
   "cell_type": "code",
   "execution_count": 102,
   "metadata": {},
   "outputs": [
    {
     "data": {
      "text/plain": [
       "(1, 14000)"
      ]
     },
     "execution_count": 102,
     "metadata": {},
     "output_type": "execute_result"
    }
   ],
   "source": [
    "new_vectorize.shape"
   ]
  },
  {
   "cell_type": "code",
   "execution_count": 106,
   "metadata": {},
   "outputs": [
    {
     "name": "stdout",
     "output_type": "stream",
     "text": [
      "Предсказанная метка для нового отзыва: 1\n"
     ]
    }
   ],
   "source": [
    "model_list[index].eval()\n",
    "with torch.no_grad():\n",
    "    output = model_list[index](new_review_tensor)\n",
    "    _, predicted_label = torch.max(output.data, 1)\n",
    "\n",
    "print(f\"Предсказанная метка для нового отзыва: {predicted_label.item() + 1}\")"
   ]
  },
  {
   "cell_type": "code",
   "execution_count": 77,
   "metadata": {},
   "outputs": [],
   "source": [
    "models_base = \"models_base\"\n",
    "current_path = os.getcwd()\n",
    "\n",
    "if not os.path.exists(models_base):\n",
    "    os.mkdir(models_base)\n",
    "\n",
    "else:\n",
    "    shutil.rmtree(models_base)\n",
    "    os.mkdir(models_base)"
   ]
  },
  {
   "cell_type": "code",
   "execution_count": null,
   "metadata": {},
   "outputs": [],
   "source": [
    "torch.save(model_list[index].state_dict(), os.path.join(models_base, f'model_{index}.pth'))"
   ]
  },
  {
   "cell_type": "markdown",
   "metadata": {},
   "source": [
    "## Сохранение готовых моделей\n"
   ]
  }
 ],
 "metadata": {
  "kernelspec": {
   "display_name": "venv",
   "language": "python",
   "name": "python3"
  },
  "language_info": {
   "codemirror_mode": {
    "name": "ipython",
    "version": 3
   },
   "file_extension": ".py",
   "mimetype": "text/x-python",
   "name": "python",
   "nbconvert_exporter": "python",
   "pygments_lexer": "ipython3",
   "version": "3.10.12"
  }
 },
 "nbformat": 4,
 "nbformat_minor": 2
}
